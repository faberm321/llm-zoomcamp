{
 "cells": [
  {
   "cell_type": "code",
   "execution_count": 7,
   "id": "4432cfbb-f1be-4503-ac9e-a346620219e6",
   "metadata": {},
   "outputs": [],
   "source": [
    "from google import genai"
   ]
  },
  {
   "cell_type": "code",
   "execution_count": 8,
   "id": "9f788fac-03bf-487d-a882-e5fe928185cf",
   "metadata": {},
   "outputs": [
    {
     "ename": "ClientError",
     "evalue": "400 INVALID_ARGUMENT. {'error': {'code': 400, 'message': 'API key not valid. Please pass a valid API key.', 'status': 'INVALID_ARGUMENT', 'details': [{'@type': 'type.googleapis.com/google.rpc.ErrorInfo', 'reason': 'API_KEY_INVALID', 'domain': 'googleapis.com', 'metadata': {'service': 'generativelanguage.googleapis.com'}}, {'@type': 'type.googleapis.com/google.rpc.LocalizedMessage', 'locale': 'en-US', 'message': 'API key not valid. Please pass a valid API key.'}]}}",
     "output_type": "error",
     "traceback": [
      "\u001b[31m---------------------------------------------------------------------------\u001b[39m",
      "\u001b[31mClientError\u001b[39m                               Traceback (most recent call last)",
      "\u001b[36mCell\u001b[39m\u001b[36m \u001b[39m\u001b[32mIn[8]\u001b[39m\u001b[32m, line 3\u001b[39m\n\u001b[32m      1\u001b[39m client = genai.Client(api_key=\u001b[33m\"\u001b[39m\u001b[33mAYOUR_API_KEY\u001b[39m\u001b[33m\"\u001b[39m)\n\u001b[32m----> \u001b[39m\u001b[32m3\u001b[39m response = \u001b[43mclient\u001b[49m\u001b[43m.\u001b[49m\u001b[43mmodels\u001b[49m\u001b[43m.\u001b[49m\u001b[43mgenerate_content\u001b[49m\u001b[43m(\u001b[49m\n\u001b[32m      4\u001b[39m \u001b[43m    \u001b[49m\u001b[43mmodel\u001b[49m\u001b[43m=\u001b[49m\u001b[33;43m\"\u001b[39;49m\u001b[33;43mgemini-2.0-flash\u001b[39;49m\u001b[33;43m\"\u001b[39;49m\u001b[43m,\u001b[49m\n\u001b[32m      5\u001b[39m \u001b[43m    \u001b[49m\u001b[43mcontents\u001b[49m\u001b[43m=\u001b[49m\u001b[33;43m\"\u001b[39;49m\u001b[33;43mque es fastapi\u001b[39;49m\u001b[33;43m\"\u001b[39;49m\u001b[43m,\u001b[49m\n\u001b[32m      6\u001b[39m \u001b[43m)\u001b[49m\n",
      "\u001b[36mFile \u001b[39m\u001b[32m/usr/local/python/3.12.1/lib/python3.12/site-packages/google/genai/models.py:6058\u001b[39m, in \u001b[36mModels.generate_content\u001b[39m\u001b[34m(self, model, contents, config)\u001b[39m\n\u001b[32m   6056\u001b[39m \u001b[38;5;28;01mwhile\u001b[39;00m remaining_remote_calls_afc > \u001b[32m0\u001b[39m:\n\u001b[32m   6057\u001b[39m   i += \u001b[32m1\u001b[39m\n\u001b[32m-> \u001b[39m\u001b[32m6058\u001b[39m   response = \u001b[38;5;28;43mself\u001b[39;49m\u001b[43m.\u001b[49m\u001b[43m_generate_content\u001b[49m\u001b[43m(\u001b[49m\n\u001b[32m   6059\u001b[39m \u001b[43m      \u001b[49m\u001b[43mmodel\u001b[49m\u001b[43m=\u001b[49m\u001b[43mmodel\u001b[49m\u001b[43m,\u001b[49m\u001b[43m \u001b[49m\u001b[43mcontents\u001b[49m\u001b[43m=\u001b[49m\u001b[43mcontents\u001b[49m\u001b[43m,\u001b[49m\u001b[43m \u001b[49m\u001b[43mconfig\u001b[49m\u001b[43m=\u001b[49m\u001b[43mparsed_config\u001b[49m\n\u001b[32m   6060\u001b[39m \u001b[43m  \u001b[49m\u001b[43m)\u001b[49m\n\u001b[32m   6061\u001b[39m   logger.info(\u001b[33mf\u001b[39m\u001b[33m'\u001b[39m\u001b[33mAFC remote call \u001b[39m\u001b[38;5;132;01m{\u001b[39;00mi\u001b[38;5;132;01m}\u001b[39;00m\u001b[33m is done.\u001b[39m\u001b[33m'\u001b[39m)\n\u001b[32m   6062\u001b[39m   remaining_remote_calls_afc -= \u001b[32m1\u001b[39m\n",
      "\u001b[36mFile \u001b[39m\u001b[32m/usr/local/python/3.12.1/lib/python3.12/site-packages/google/genai/models.py:5007\u001b[39m, in \u001b[36mModels._generate_content\u001b[39m\u001b[34m(self, model, contents, config)\u001b[39m\n\u001b[32m   5004\u001b[39m request_dict = _common.convert_to_dict(request_dict)\n\u001b[32m   5005\u001b[39m request_dict = _common.encode_unserializable_types(request_dict)\n\u001b[32m-> \u001b[39m\u001b[32m5007\u001b[39m response_dict = \u001b[38;5;28;43mself\u001b[39;49m\u001b[43m.\u001b[49m\u001b[43m_api_client\u001b[49m\u001b[43m.\u001b[49m\u001b[43mrequest\u001b[49m\u001b[43m(\u001b[49m\n\u001b[32m   5008\u001b[39m \u001b[43m    \u001b[49m\u001b[33;43m'\u001b[39;49m\u001b[33;43mpost\u001b[39;49m\u001b[33;43m'\u001b[39;49m\u001b[43m,\u001b[49m\u001b[43m \u001b[49m\u001b[43mpath\u001b[49m\u001b[43m,\u001b[49m\u001b[43m \u001b[49m\u001b[43mrequest_dict\u001b[49m\u001b[43m,\u001b[49m\u001b[43m \u001b[49m\u001b[43mhttp_options\u001b[49m\n\u001b[32m   5009\u001b[39m \u001b[43m\u001b[49m\u001b[43m)\u001b[49m\n\u001b[32m   5011\u001b[39m \u001b[38;5;28;01mif\u001b[39;00m \u001b[38;5;28mself\u001b[39m._api_client.vertexai:\n\u001b[32m   5012\u001b[39m   response_dict = _GenerateContentResponse_from_vertex(\n\u001b[32m   5013\u001b[39m       \u001b[38;5;28mself\u001b[39m._api_client, response_dict\n\u001b[32m   5014\u001b[39m   )\n",
      "\u001b[36mFile \u001b[39m\u001b[32m/usr/local/python/3.12.1/lib/python3.12/site-packages/google/genai/_api_client.py:927\u001b[39m, in \u001b[36mBaseApiClient.request\u001b[39m\u001b[34m(self, http_method, path, request_dict, http_options)\u001b[39m\n\u001b[32m    917\u001b[39m \u001b[38;5;28;01mdef\u001b[39;00m\u001b[38;5;250m \u001b[39m\u001b[34mrequest\u001b[39m(\n\u001b[32m    918\u001b[39m     \u001b[38;5;28mself\u001b[39m,\n\u001b[32m    919\u001b[39m     http_method: \u001b[38;5;28mstr\u001b[39m,\n\u001b[32m   (...)\u001b[39m\u001b[32m    922\u001b[39m     http_options: Optional[HttpOptionsOrDict] = \u001b[38;5;28;01mNone\u001b[39;00m,\n\u001b[32m    923\u001b[39m ) -> Union[BaseResponse, Any]:\n\u001b[32m    924\u001b[39m   http_request = \u001b[38;5;28mself\u001b[39m._build_request(\n\u001b[32m    925\u001b[39m       http_method, path, request_dict, http_options\n\u001b[32m    926\u001b[39m   )\n\u001b[32m--> \u001b[39m\u001b[32m927\u001b[39m   response = \u001b[38;5;28;43mself\u001b[39;49m\u001b[43m.\u001b[49m\u001b[43m_request\u001b[49m\u001b[43m(\u001b[49m\u001b[43mhttp_request\u001b[49m\u001b[43m,\u001b[49m\u001b[43m \u001b[49m\u001b[43mstream\u001b[49m\u001b[43m=\u001b[49m\u001b[38;5;28;43;01mFalse\u001b[39;49;00m\u001b[43m)\u001b[49m\n\u001b[32m    928\u001b[39m   json_response = response.json\n\u001b[32m    929\u001b[39m   \u001b[38;5;28;01mif\u001b[39;00m \u001b[38;5;129;01mnot\u001b[39;00m json_response:\n",
      "\u001b[36mFile \u001b[39m\u001b[32m/usr/local/python/3.12.1/lib/python3.12/site-packages/google/genai/_api_client.py:793\u001b[39m, in \u001b[36mBaseApiClient._request\u001b[39m\u001b[34m(self, http_request, stream)\u001b[39m\n\u001b[32m    785\u001b[39m \u001b[38;5;28;01melse\u001b[39;00m:\n\u001b[32m    786\u001b[39m   response = \u001b[38;5;28mself\u001b[39m._httpx_client.request(\n\u001b[32m    787\u001b[39m       method=http_request.method,\n\u001b[32m    788\u001b[39m       url=http_request.url,\n\u001b[32m   (...)\u001b[39m\u001b[32m    791\u001b[39m       timeout=http_request.timeout,\n\u001b[32m    792\u001b[39m   )\n\u001b[32m--> \u001b[39m\u001b[32m793\u001b[39m   \u001b[43merrors\u001b[49m\u001b[43m.\u001b[49m\u001b[43mAPIError\u001b[49m\u001b[43m.\u001b[49m\u001b[43mraise_for_response\u001b[49m\u001b[43m(\u001b[49m\u001b[43mresponse\u001b[49m\u001b[43m)\u001b[49m\n\u001b[32m    794\u001b[39m   \u001b[38;5;28;01mreturn\u001b[39;00m HttpResponse(\n\u001b[32m    795\u001b[39m       response.headers, response \u001b[38;5;28;01mif\u001b[39;00m stream \u001b[38;5;28;01melse\u001b[39;00m [response.text]\n\u001b[32m    796\u001b[39m   )\n",
      "\u001b[36mFile \u001b[39m\u001b[32m/usr/local/python/3.12.1/lib/python3.12/site-packages/google/genai/errors.py:104\u001b[39m, in \u001b[36mAPIError.raise_for_response\u001b[39m\u001b[34m(cls, response)\u001b[39m\n\u001b[32m    102\u001b[39m status_code = response.status_code\n\u001b[32m    103\u001b[39m \u001b[38;5;28;01mif\u001b[39;00m \u001b[32m400\u001b[39m <= status_code < \u001b[32m500\u001b[39m:\n\u001b[32m--> \u001b[39m\u001b[32m104\u001b[39m   \u001b[38;5;28;01mraise\u001b[39;00m ClientError(status_code, response_json, response)\n\u001b[32m    105\u001b[39m \u001b[38;5;28;01melif\u001b[39;00m \u001b[32m500\u001b[39m <= status_code < \u001b[32m600\u001b[39m:\n\u001b[32m    106\u001b[39m   \u001b[38;5;28;01mraise\u001b[39;00m ServerError(status_code, response_json, response)\n",
      "\u001b[31mClientError\u001b[39m: 400 INVALID_ARGUMENT. {'error': {'code': 400, 'message': 'API key not valid. Please pass a valid API key.', 'status': 'INVALID_ARGUMENT', 'details': [{'@type': 'type.googleapis.com/google.rpc.ErrorInfo', 'reason': 'API_KEY_INVALID', 'domain': 'googleapis.com', 'metadata': {'service': 'generativelanguage.googleapis.com'}}, {'@type': 'type.googleapis.com/google.rpc.LocalizedMessage', 'locale': 'en-US', 'message': 'API key not valid. Please pass a valid API key.'}]}}"
     ]
    }
   ],
   "source": [
    "client = genai.Client(api_key=\"AYOUR_API_KEY\")\n",
    "\n",
    "response = client.models.generate_content(\n",
    "    model=\"gemini-2.0-flash\",\n",
    "    contents=\"que es fastapi\",\n",
    ")"
   ]
  },
  {
   "cell_type": "code",
   "execution_count": 3,
   "id": "b7248bda-9eb2-4b40-bb38-de509ce810e4",
   "metadata": {},
   "outputs": [
    {
     "name": "stdout",
     "output_type": "stream",
     "text": [
      "FastAPI es un framework moderno de Python para construir APIs (Interfaces de Programación de Aplicaciones) de alto rendimiento, rápido de aprender, fácil de usar y listo para producción.\n",
      "\n",
      "Aquí te detallo sus características y beneficios principales:\n",
      "\n",
      "**Características Clave:**\n",
      "\n",
      "*   **Rendimiento:**  FastAPI está construido sobre Starlette (un framework ASGI ligero) y Pydantic (para validación y serialización de datos), lo que le permite ofrecer un rendimiento muy alto, comparable al de NodeJS y Go.\n",
      "*   **Desarrollo Rápido:**  Está diseñado para acelerar el desarrollo de APIs.  La validación de datos, la serialización, y la generación automática de documentación te ahorran mucho tiempo.\n",
      "*   **Fácil de Aprender y Usar:**  La sintaxis de FastAPI es intuitiva y concisa, lo que la hace fácil de aprender para los desarrolladores de Python, incluso para aquellos que son nuevos en la construcción de APIs.  Se basa en tipado estándar de Python (type hints), lo que mejora la legibilidad y la capacidad de autocompletado en los IDEs.\n",
      "*   **Robustez:** La validación de datos integrada con Pydantic garantiza que los datos que recibe y devuelve tu API sean correctos y consistentes.\n",
      "*   **Documentación Automática Interactiva:**  FastAPI genera automáticamente documentación interactiva de la API utilizando Swagger UI y ReDoc.  Esto permite a los desarrolladores explorar la API, realizar pruebas y generar código cliente fácilmente.\n",
      "*   **Integración de Seguridad:** Incluye herramientas para implementar mecanismos de seguridad comunes como autenticación y autorización (OAuth2, JWT, API Keys).\n",
      "*   **Listo para Producción:**  FastAPI está diseñado para ser desplegado en entornos de producción y puede manejar grandes volúmenes de tráfico.\n",
      "*   **Soporte para Dependencias:** Facilita la gestión de dependencias de tu aplicación, permitiendo una mejor organización y reutilización del código.\n",
      "\n",
      "**Beneficios de Usar FastAPI:**\n",
      "\n",
      "*   **Mayor Productividad:**  El desarrollo de APIs es más rápido y eficiente gracias a la validación automática, la generación de documentación y la sintaxis intuitiva.\n",
      "*   **Menos Bugs:**  La validación de datos y el tipado estático ayudan a prevenir errores comunes relacionados con la entrada y salida de datos.\n",
      "*   **Mejor Experiencia para el Desarrollador:** La documentación automática interactiva y la facilidad de uso hacen que sea más fácil para otros desarrolladores (internos o externos) comprender y utilizar tu API.\n",
      "*   **Escalabilidad:**  El alto rendimiento de FastAPI permite que tu API maneje grandes volúmenes de tráfico sin problemas.\n",
      "*   **Código Más Limpio y Mantenible:**  El diseño de FastAPI fomenta la escritura de código limpio, modular y fácil de mantener.\n",
      "\n",
      "**En Resumen:**\n",
      "\n",
      "FastAPI es una excelente opción para desarrollar APIs en Python, especialmente si necesitas:\n",
      "\n",
      "*   **Alto Rendimiento:**  Para aplicaciones que requieren tiempos de respuesta rápidos y la capacidad de manejar una gran cantidad de solicitudes.\n",
      "*   **Desarrollo Rápido:**  Para proyectos con plazos ajustados.\n",
      "*   **Documentación Automática:**  Para facilitar la adopción y el uso de tu API por otros desarrolladores.\n",
      "*   **Validación de Datos:**  Para garantizar la calidad y la consistencia de los datos.\n",
      "\n",
      "**Ejemplo Simple:**\n",
      "\n",
      "```python\n",
      "from fastapi import FastAPI\n",
      "\n",
      "app = FastAPI()\n",
      "\n",
      "@app.get(\"/\")\n",
      "async def read_root():\n",
      "    return {\"Hello\": \"World\"}\n",
      "\n",
      "@app.get(\"/items/{item_id}\")\n",
      "async def read_item(item_id: int, q: str = None):\n",
      "    return {\"item_id\": item_id, \"q\": q}\n",
      "```\n",
      "\n",
      "Para ejecutar este código (después de instalar FastAPI y Uvicorn):\n",
      "\n",
      "1.  `pip install fastapi uvicorn`\n",
      "2.  `uvicorn main:app --reload`  (donde `main.py` es el nombre del archivo)\n",
      "\n",
      "Luego puedes acceder a:\n",
      "\n",
      "*   `http://127.0.0.1:8000/`\n",
      "*   `http://127.0.0.1:8000/items/5?q=somequery`\n",
      "*   `http://127.0.0.1:8000/docs` (para ver la documentación Swagger UI)\n",
      "*   `http://127.0.0.1:8000/redoc` (para ver la documentación ReDoc)\n",
      "\n",
      "En conclusión, FastAPI es un framework poderoso y moderno que simplifica el desarrollo de APIs en Python, ofreciendo rendimiento, eficiencia y una excelente experiencia para el desarrollador.\n",
      "\n"
     ]
    }
   ],
   "source": [
    "print(response.text)"
   ]
  },
  {
   "cell_type": "code",
   "execution_count": null,
   "id": "f0877b3e-9579-4b0d-a037-cb47d9943517",
   "metadata": {},
   "outputs": [],
   "source": []
  }
 ],
 "metadata": {
  "kernelspec": {
   "display_name": "Python 3 (ipykernel)",
   "language": "python",
   "name": "python3"
  },
  "language_info": {
   "codemirror_mode": {
    "name": "ipython",
    "version": 3
   },
   "file_extension": ".py",
   "mimetype": "text/x-python",
   "name": "python",
   "nbconvert_exporter": "python",
   "pygments_lexer": "ipython3",
   "version": "3.12.1"
  }
 },
 "nbformat": 4,
 "nbformat_minor": 5
}
